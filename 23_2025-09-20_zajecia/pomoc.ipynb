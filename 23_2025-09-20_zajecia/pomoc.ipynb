{
 "cells": [
  {
   "cell_type": "code",
   "id": "initial_id",
   "metadata": {
    "collapsed": true,
    "ExecuteTime": {
     "end_time": "2025-09-20T12:49:54.749025Z",
     "start_time": "2025-09-20T12:49:54.741194Z"
    }
   },
   "source": [
    "from zipfile import ZipFile\n",
    "\n",
    "with ZipFile(\"tabela_przestawna2.xlsx\", \"r\") as archive:\n",
    "    for filepath in archive.namelist():\n",
    "        print(filepath)\n"
   ],
   "outputs": [
    {
     "name": "stdout",
     "output_type": "stream",
     "text": [
      "docProps/app.xml\n",
      "docProps/core.xml\n",
      "xl/theme/theme1.xml\n",
      "xl/worksheets/sheet1.xml\n",
      "xl/worksheets/sheet2.xml\n",
      "xl/styles.xml\n",
      "_rels/.rels\n",
      "xl/workbook.xml\n",
      "xl/_rels/workbook.xml.rels\n",
      "[Content_Types].xml\n"
     ]
    }
   ],
   "execution_count": 1
  },
  {
   "metadata": {
    "ExecuteTime": {
     "end_time": "2025-09-20T12:50:41.485978Z",
     "start_time": "2025-09-20T12:50:41.475554Z"
    }
   },
   "cell_type": "code",
   "source": [
    "from zipfile import ZipFile\n",
    "\n",
    "with ZipFile(\"tabela_przestawna2.xlsx\", \"r\") as archive:\n",
    "    with archive.open(\"xl/worksheets/sheet1.xml\") as f:\n",
    "        xml_content = f.read()\n",
    "\n",
    "print(xml_content.decode('utf-8'))  # wyświetla zawartość jako tekst\n"
   ],
   "id": "f9a30a86fcb7f122",
   "outputs": [
    {
     "name": "stdout",
     "output_type": "stream",
     "text": [
      "<worksheet xmlns=\"http://schemas.openxmlformats.org/spreadsheetml/2006/main\"><sheetPr><outlinePr summaryBelow=\"1\" summaryRight=\"1\"/><pageSetUpPr/></sheetPr><dimension ref=\"A1:D6\"/><sheetViews><sheetView workbookViewId=\"0\"><selection activeCell=\"A1\" sqref=\"A1\"/></sheetView></sheetViews><sheetFormatPr baseColWidth=\"8\" defaultRowHeight=\"15\"/><sheetData><row r=\"1\"><c r=\"A1\" t=\"inlineStr\"><is><t>Data</t></is></c><c r=\"B1\" t=\"inlineStr\"><is><t>Kategoria</t></is></c><c r=\"C1\" t=\"inlineStr\"><is><t>Produkt</t></is></c><c r=\"D1\" t=\"inlineStr\"><is><t>Sprzedaj</t></is></c></row><row r=\"2\"><c r=\"A2\" t=\"inlineStr\"><is><t>2024-01-01</t></is></c><c r=\"B2\" t=\"inlineStr\"><is><t>Elektronika</t></is></c><c r=\"C2\" t=\"inlineStr\"><is><t>Telefon</t></is></c><c r=\"D2\" t=\"n\"><v>1500</v></c></row><row r=\"3\"><c r=\"A3\" t=\"inlineStr\"><is><t>2024-01-02</t></is></c><c r=\"B3\" t=\"inlineStr\"><is><t>Elektronika</t></is></c><c r=\"C3\" t=\"inlineStr\"><is><t>Telefon</t></is></c><c r=\"D3\" t=\"n\"><v>1500</v></c></row><row r=\"4\"><c r=\"A4\" t=\"inlineStr\"><is><t>2024-01-02</t></is></c><c r=\"B4\" t=\"inlineStr\"><is><t>Odzie&#380;</t></is></c><c r=\"C4\" t=\"inlineStr\"><is><t>Koszula</t></is></c><c r=\"D4\" t=\"n\"><v>50</v></c></row><row r=\"5\"><c r=\"A5\" t=\"inlineStr\"><is><t>2024-01-03</t></is></c><c r=\"B5\" t=\"inlineStr\"><is><t>Odzie&#380;</t></is></c><c r=\"C5\" t=\"inlineStr\"><is><t>Kurtka</t></is></c><c r=\"D5\" t=\"n\"><v>200</v></c></row><row r=\"6\"><c r=\"A6\" t=\"inlineStr\"><is><t>2024-01-04</t></is></c><c r=\"B6\" t=\"inlineStr\"><is><t>Elektronika</t></is></c><c r=\"C6\" t=\"inlineStr\"><is><t>Laptop</t></is></c><c r=\"D6\" t=\"n\"><v>1500</v></c></row></sheetData><pageMargins left=\"0.75\" right=\"0.75\" top=\"1\" bottom=\"1\" header=\"0.5\" footer=\"0.5\"/></worksheet>\n"
     ]
    }
   ],
   "execution_count": 2
  }
 ],
 "metadata": {
  "kernelspec": {
   "display_name": "Python 3",
   "language": "python",
   "name": "python3"
  },
  "language_info": {
   "codemirror_mode": {
    "name": "ipython",
    "version": 2
   },
   "file_extension": ".py",
   "mimetype": "text/x-python",
   "name": "python",
   "nbconvert_exporter": "python",
   "pygments_lexer": "ipython2",
   "version": "2.7.6"
  }
 },
 "nbformat": 4,
 "nbformat_minor": 5
}
